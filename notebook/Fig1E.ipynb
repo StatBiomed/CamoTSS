{
 "cells": [
  {
   "cell_type": "markdown",
   "id": "b9ab8a7b-7c84-4a10-9d1c-62abe202e482",
   "metadata": {},
   "source": [
    "# Summary"
   ]
  },
  {
   "cell_type": "markdown",
   "id": "e3ad79bc-503e-4205-a48c-569a4a986950",
   "metadata": {},
   "source": [
    "we mainly use deeptools to plot figure 1E. So here is just some linux information"
   ]
  },
  {
   "cell_type": "markdown",
   "id": "ad4ec08f-42cf-4977-bfb4-8ff8f3a1b945",
   "metadata": {},
   "source": [
    "## produce negative contol"
   ]
  },
  {
   "cell_type": "markdown",
   "id": "5bad9ea2-fd26-4c50-8ae8-d8ad9c54beff",
   "metadata": {},
   "source": [
    " bedtools random -g /storage/yhhuang/users/ruiyan/annotation/hg38.chrom.sizes  -l  100 -n 508 -seed 666 > random.bed"
   ]
  },
  {
   "cell_type": "markdown",
   "id": "66f87eb3-075c-433a-b4bb-5e28e676480c",
   "metadata": {},
   "source": [
    "## compute matrix"
   ]
  },
  {
   "cell_type": "markdown",
   "id": "45ac195b-7957-46de-899c-163942ecf553",
   "metadata": {},
   "source": [
    "computeMatrix reference-point --referencePoint TSS -b 5000  -a 5000 -R ../scRNA-seq/bed_file/scTSS  ../scRNA-seq/bed_file/random   -S H3K27ac.fc.bw   -o H3K27ac.mat.gz -p 20"
   ]
  },
  {
   "cell_type": "markdown",
   "id": "911d2f08-dfa0-495c-b188-188d342c3164",
   "metadata": {},
   "source": [
    "## plot picture"
   ]
  },
  {
   "cell_type": "markdown",
   "id": "888ea268-3251-442f-b264-51bbee0a303e",
   "metadata": {},
   "source": [
    "plotProfile -m H3K27ac.mat.gz  -o H3k27ac_SCTSS.pdf --dpi 300"
   ]
  },
  {
   "cell_type": "code",
   "execution_count": null,
   "id": "22577f2d-eb19-431f-9ee6-2d27609c7175",
   "metadata": {},
   "outputs": [],
   "source": []
  }
 ],
 "metadata": {
  "kernelspec": {
   "display_name": "newPy3",
   "language": "python",
   "name": "newpy3"
  },
  "language_info": {
   "codemirror_mode": {
    "name": "ipython",
    "version": 3
   },
   "file_extension": ".py",
   "mimetype": "text/x-python",
   "name": "python",
   "nbconvert_exporter": "python",
   "pygments_lexer": "ipython3",
   "version": "3.7.12"
  }
 },
 "nbformat": 4,
 "nbformat_minor": 5
}
