{
 "cells": [
  {
   "cell_type": "markdown",
   "id": "d229c342-9ac6-4d0b-a774-6126090a7a94",
   "metadata": {},
   "source": [
    "# Detect alternative TSS/CTSS\n",
    "\n",
    "In order to detect the alternative TSS or CTSS, we directly exploit [BRIE2](https://genomebiology.biomedcentral.com/articles/10.1186/s13059-021-02461-5) which is based on a Bayesian hierarchical model. \n",
    "\n",
    "We should make preprocessing for our TSS data from CamoTSS.   "
   ]
  },
  {
   "cell_type": "markdown",
   "id": "4d8526eb-6974-4512-bbd3-f0030c493fd0",
   "metadata": {},
   "source": [
    "## prepare h5ad file"
   ]
  },
  {
   "cell_type": "code",
   "execution_count": 3,
   "id": "0097adcd-f07e-413b-afa2-946ba50602aa",
   "metadata": {},
   "outputs": [],
   "source": [
    "import warnings\n",
    "warnings.filterwarnings('ignore')"
   ]
  },
  {
   "cell_type": "code",
   "execution_count": 4,
   "id": "85a7f3b3-42c2-43e5-b04f-bae88c166550",
   "metadata": {},
   "outputs": [],
   "source": [
    "import pandas as pd\n",
    "import scanpy as sc\n",
    "import numpy as np"
   ]
  },
  {
   "cell_type": "markdown",
   "id": "35d5a653-9bf0-4406-8e0b-81c6de685a1d",
   "metadata": {},
   "source": [
    "Here, we can first read the count matrix which has **genes with multiple TSSs** from the CamoTSS_out file. "
   ]
  },
  {
   "cell_type": "code",
   "execution_count": 6,
   "id": "fd7b47f8-ab3a-43cd-a239-fb1c63389251",
   "metadata": {},
   "outputs": [
    {
     "data": {
      "text/plain": [
       "AnnData object with n_obs × n_vars = 51001 × 4226\n",
       "    var: 'TSS_start', 'TSS_end', 'gene_id', 'Chromosome', 'Feature', 'Start', 'End', 'Strand', 'gene_name', 'len'"
      ]
     },
     "execution_count": 6,
     "metadata": {},
     "output_type": "execute_result"
    }
   ],
   "source": [
    "TSSadata=sc.read('/storage/yhhuang/users/ruiyan/NPC/srafiledir/scTSS_out/all_unannotation/count/scTSS_count_two.h5ad')\n",
    "TSSadata"
   ]
  },
  {
   "cell_type": "markdown",
   "id": "a6bfa36e-219f-42eb-9bfd-3b2942899519",
   "metadata": {},
   "source": [
    "`expadata` is the expression data which can be obtained from either cellranger count or adding annotation by yourself. "
   ]
  },
  {
   "cell_type": "code",
   "execution_count": 7,
   "id": "f843bb56-4d53-473e-a69a-7b8b55033efe",
   "metadata": {},
   "outputs": [
    {
     "data": {
      "text/plain": [
       "AnnData object with n_obs × n_vars = 3863735 × 33538\n",
       "    obs: 'index', 'cell_id', 'batch'\n",
       "    var: 'gene_ids', 'feature_types'"
      ]
     },
     "execution_count": 7,
     "metadata": {},
     "output_type": "execute_result"
    }
   ],
   "source": [
    "expadata=sc.read('/storage/yhhuang/users/ruiyan/NPC/srafiledir/cellranger_change_index/all_cellranger_NPC.h5ad')\n",
    "expadata"
   ]
  },
  {
   "cell_type": "markdown",
   "id": "1ada2297-9672-44cc-863e-81d21a7bc680",
   "metadata": {},
   "source": [
    "In order to build relationship with TSS data, we should first keep the `var.index` the same with the prefix of TSS id"
   ]
  },
  {
   "cell_type": "code",
   "execution_count": 8,
   "id": "4280f58a-4ce5-4d81-9ef0-605ce60f7e51",
   "metadata": {},
   "outputs": [
    {
     "data": {
      "text/html": [
       "<div>\n",
       "<style scoped>\n",
       "    .dataframe tbody tr th:only-of-type {\n",
       "        vertical-align: middle;\n",
       "    }\n",
       "\n",
       "    .dataframe tbody tr th {\n",
       "        vertical-align: top;\n",
       "    }\n",
       "\n",
       "    .dataframe thead th {\n",
       "        text-align: right;\n",
       "    }\n",
       "</style>\n",
       "<table border=\"1\" class=\"dataframe\">\n",
       "  <thead>\n",
       "    <tr style=\"text-align: right;\">\n",
       "      <th></th>\n",
       "      <th>gene_ids</th>\n",
       "      <th>feature_types</th>\n",
       "      <th>gene_name</th>\n",
       "    </tr>\n",
       "    <tr>\n",
       "      <th>gene_ids</th>\n",
       "      <th></th>\n",
       "      <th></th>\n",
       "      <th></th>\n",
       "    </tr>\n",
       "  </thead>\n",
       "  <tbody>\n",
       "    <tr>\n",
       "      <th>ENSG00000243485</th>\n",
       "      <td>ENSG00000243485</td>\n",
       "      <td>Gene Expression</td>\n",
       "      <td>MIR1302-2HG</td>\n",
       "    </tr>\n",
       "    <tr>\n",
       "      <th>ENSG00000237613</th>\n",
       "      <td>ENSG00000237613</td>\n",
       "      <td>Gene Expression</td>\n",
       "      <td>FAM138A</td>\n",
       "    </tr>\n",
       "    <tr>\n",
       "      <th>ENSG00000186092</th>\n",
       "      <td>ENSG00000186092</td>\n",
       "      <td>Gene Expression</td>\n",
       "      <td>OR4F5</td>\n",
       "    </tr>\n",
       "    <tr>\n",
       "      <th>ENSG00000238009</th>\n",
       "      <td>ENSG00000238009</td>\n",
       "      <td>Gene Expression</td>\n",
       "      <td>AL627309.1</td>\n",
       "    </tr>\n",
       "    <tr>\n",
       "      <th>ENSG00000239945</th>\n",
       "      <td>ENSG00000239945</td>\n",
       "      <td>Gene Expression</td>\n",
       "      <td>AL627309.3</td>\n",
       "    </tr>\n",
       "    <tr>\n",
       "      <th>...</th>\n",
       "      <td>...</td>\n",
       "      <td>...</td>\n",
       "      <td>...</td>\n",
       "    </tr>\n",
       "    <tr>\n",
       "      <th>ENSG00000277856</th>\n",
       "      <td>ENSG00000277856</td>\n",
       "      <td>Gene Expression</td>\n",
       "      <td>AC233755.2</td>\n",
       "    </tr>\n",
       "    <tr>\n",
       "      <th>ENSG00000275063</th>\n",
       "      <td>ENSG00000275063</td>\n",
       "      <td>Gene Expression</td>\n",
       "      <td>AC233755.1</td>\n",
       "    </tr>\n",
       "    <tr>\n",
       "      <th>ENSG00000271254</th>\n",
       "      <td>ENSG00000271254</td>\n",
       "      <td>Gene Expression</td>\n",
       "      <td>AC240274.1</td>\n",
       "    </tr>\n",
       "    <tr>\n",
       "      <th>ENSG00000277475</th>\n",
       "      <td>ENSG00000277475</td>\n",
       "      <td>Gene Expression</td>\n",
       "      <td>AC213203.1</td>\n",
       "    </tr>\n",
       "    <tr>\n",
       "      <th>ENSG00000268674</th>\n",
       "      <td>ENSG00000268674</td>\n",
       "      <td>Gene Expression</td>\n",
       "      <td>FAM231C</td>\n",
       "    </tr>\n",
       "  </tbody>\n",
       "</table>\n",
       "<p>33538 rows × 3 columns</p>\n",
       "</div>"
      ],
      "text/plain": [
       "                        gene_ids    feature_types    gene_name\n",
       "gene_ids                                                      \n",
       "ENSG00000243485  ENSG00000243485  Gene Expression  MIR1302-2HG\n",
       "ENSG00000237613  ENSG00000237613  Gene Expression      FAM138A\n",
       "ENSG00000186092  ENSG00000186092  Gene Expression        OR4F5\n",
       "ENSG00000238009  ENSG00000238009  Gene Expression   AL627309.1\n",
       "ENSG00000239945  ENSG00000239945  Gene Expression   AL627309.3\n",
       "...                          ...              ...          ...\n",
       "ENSG00000277856  ENSG00000277856  Gene Expression   AC233755.2\n",
       "ENSG00000275063  ENSG00000275063  Gene Expression   AC233755.1\n",
       "ENSG00000271254  ENSG00000271254  Gene Expression   AC240274.1\n",
       "ENSG00000277475  ENSG00000277475  Gene Expression   AC213203.1\n",
       "ENSG00000268674  ENSG00000268674  Gene Expression      FAM231C\n",
       "\n",
       "[33538 rows x 3 columns]"
      ]
     },
     "execution_count": 8,
     "metadata": {},
     "output_type": "execute_result"
    }
   ],
   "source": [
    "expadata.var['gene_name']=expadata.var.index\n",
    "expadata.var.index=expadata.var['gene_ids']\n",
    "expadata.var"
   ]
  },
  {
   "cell_type": "markdown",
   "id": "77004341-d6da-4c27-8275-8c1f47f0e758",
   "metadata": {},
   "source": [
    "To make sure the `cell barcode` unique"
   ]
  },
  {
   "cell_type": "code",
   "execution_count": 9,
   "id": "3e65181e-0512-463c-8e8f-aae6608de6e0",
   "metadata": {},
   "outputs": [
    {
     "data": {
      "text/plain": [
       "AnnData object with n_obs × n_vars = 3863735 × 33538\n",
       "    obs: 'index', 'cell_id', 'batch'\n",
       "    var: 'gene_ids', 'feature_types', 'gene_name'"
      ]
     },
     "execution_count": 9,
     "metadata": {},
     "output_type": "execute_result"
    }
   ],
   "source": [
    "expadata.obs_names_make_unique()\n",
    "expadata"
   ]
  },
  {
   "cell_type": "markdown",
   "id": "2bf77b5d-883e-4ddd-a673-81321b98e227",
   "metadata": {},
   "source": [
    "#### Select the TSS with max count"
   ]
  },
  {
   "cell_type": "code",
   "execution_count": 10,
   "id": "b727759a-26ca-4f1a-932c-b3ef4eef3dbf",
   "metadata": {},
   "outputs": [
    {
     "data": {
      "text/html": [
       "<div>\n",
       "<style scoped>\n",
       "    .dataframe tbody tr th:only-of-type {\n",
       "        vertical-align: middle;\n",
       "    }\n",
       "\n",
       "    .dataframe tbody tr th {\n",
       "        vertical-align: top;\n",
       "    }\n",
       "\n",
       "    .dataframe thead th {\n",
       "        text-align: right;\n",
       "    }\n",
       "</style>\n",
       "<table border=\"1\" class=\"dataframe\">\n",
       "  <thead>\n",
       "    <tr style=\"text-align: right;\">\n",
       "      <th></th>\n",
       "      <th>TSS_start</th>\n",
       "      <th>TSS_end</th>\n",
       "      <th>gene_id</th>\n",
       "      <th>Chromosome</th>\n",
       "      <th>Feature</th>\n",
       "      <th>Start</th>\n",
       "      <th>End</th>\n",
       "      <th>Strand</th>\n",
       "      <th>gene_name</th>\n",
       "      <th>len</th>\n",
       "    </tr>\n",
       "    <tr>\n",
       "      <th>transcript_id</th>\n",
       "      <th></th>\n",
       "      <th></th>\n",
       "      <th></th>\n",
       "      <th></th>\n",
       "      <th></th>\n",
       "      <th></th>\n",
       "      <th></th>\n",
       "      <th></th>\n",
       "      <th></th>\n",
       "      <th></th>\n",
       "    </tr>\n",
       "  </thead>\n",
       "  <tbody>\n",
       "    <tr>\n",
       "      <th>ENSG00000197530_newTSS</th>\n",
       "      <td>1629591</td>\n",
       "      <td>1629697</td>\n",
       "      <td>ENSG00000197530</td>\n",
       "      <td>1</td>\n",
       "      <td>gene</td>\n",
       "      <td>1615414</td>\n",
       "      <td>1630610</td>\n",
       "      <td>+</td>\n",
       "      <td>MIB2</td>\n",
       "      <td>15196</td>\n",
       "    </tr>\n",
       "    <tr>\n",
       "      <th>ENSG00000197530_ENST00000518681</th>\n",
       "      <td>1615420</td>\n",
       "      <td>1615554</td>\n",
       "      <td>ENSG00000197530</td>\n",
       "      <td>1</td>\n",
       "      <td>gene</td>\n",
       "      <td>1615414</td>\n",
       "      <td>1630610</td>\n",
       "      <td>+</td>\n",
       "      <td>MIB2</td>\n",
       "      <td>15196</td>\n",
       "    </tr>\n",
       "    <tr>\n",
       "      <th>ENSG00000197530_ENST00000510793</th>\n",
       "      <td>1616194</td>\n",
       "      <td>1616348</td>\n",
       "      <td>ENSG00000197530</td>\n",
       "      <td>1</td>\n",
       "      <td>gene</td>\n",
       "      <td>1615414</td>\n",
       "      <td>1630610</td>\n",
       "      <td>+</td>\n",
       "      <td>MIB2</td>\n",
       "      <td>15196</td>\n",
       "    </tr>\n",
       "    <tr>\n",
       "      <th>ENSG00000189409_ENST00000435358</th>\n",
       "      <td>1633111</td>\n",
       "      <td>1633230</td>\n",
       "      <td>ENSG00000189409</td>\n",
       "      <td>1</td>\n",
       "      <td>gene</td>\n",
       "      <td>1632162</td>\n",
       "      <td>1635263</td>\n",
       "      <td>+</td>\n",
       "      <td>MMP23B</td>\n",
       "      <td>3101</td>\n",
       "    </tr>\n",
       "    <tr>\n",
       "      <th>ENSG00000189409_ENST00000472264</th>\n",
       "      <td>1632164</td>\n",
       "      <td>1632228</td>\n",
       "      <td>ENSG00000189409</td>\n",
       "      <td>1</td>\n",
       "      <td>gene</td>\n",
       "      <td>1632162</td>\n",
       "      <td>1635263</td>\n",
       "      <td>+</td>\n",
       "      <td>MMP23B</td>\n",
       "      <td>3101</td>\n",
       "    </tr>\n",
       "    <tr>\n",
       "      <th>...</th>\n",
       "      <td>...</td>\n",
       "      <td>...</td>\n",
       "      <td>...</td>\n",
       "      <td>...</td>\n",
       "      <td>...</td>\n",
       "      <td>...</td>\n",
       "      <td>...</td>\n",
       "      <td>...</td>\n",
       "      <td>...</td>\n",
       "      <td>...</td>\n",
       "    </tr>\n",
       "    <tr>\n",
       "      <th>ENSG00000089820_ENST00000461052</th>\n",
       "      <td>153926592</td>\n",
       "      <td>153926836</td>\n",
       "      <td>ENSG00000089820</td>\n",
       "      <td>X</td>\n",
       "      <td>gene</td>\n",
       "      <td>153907366</td>\n",
       "      <td>153934999</td>\n",
       "      <td>-</td>\n",
       "      <td>ARHGAP4</td>\n",
       "      <td>27633</td>\n",
       "    </tr>\n",
       "    <tr>\n",
       "      <th>ENSG00000013563_newTSS</th>\n",
       "      <td>154411909</td>\n",
       "      <td>154412002</td>\n",
       "      <td>ENSG00000013563</td>\n",
       "      <td>X</td>\n",
       "      <td>gene</td>\n",
       "      <td>154401235</td>\n",
       "      <td>154412112</td>\n",
       "      <td>-</td>\n",
       "      <td>DNASE1L1</td>\n",
       "      <td>10877</td>\n",
       "    </tr>\n",
       "    <tr>\n",
       "      <th>ENSG00000013563_ENST00000369807</th>\n",
       "      <td>154409083</td>\n",
       "      <td>154409253</td>\n",
       "      <td>ENSG00000013563</td>\n",
       "      <td>X</td>\n",
       "      <td>gene</td>\n",
       "      <td>154401235</td>\n",
       "      <td>154412112</td>\n",
       "      <td>-</td>\n",
       "      <td>DNASE1L1</td>\n",
       "      <td>10877</td>\n",
       "    </tr>\n",
       "    <tr>\n",
       "      <th>ENSG00000183878_ENST00000479713</th>\n",
       "      <td>13479746</td>\n",
       "      <td>13479934</td>\n",
       "      <td>ENSG00000183878</td>\n",
       "      <td>Y</td>\n",
       "      <td>gene</td>\n",
       "      <td>13248378</td>\n",
       "      <td>13480673</td>\n",
       "      <td>-</td>\n",
       "      <td>UTY</td>\n",
       "      <td>232295</td>\n",
       "    </tr>\n",
       "    <tr>\n",
       "      <th>ENSG00000183878_newTSS</th>\n",
       "      <td>13479231</td>\n",
       "      <td>13479358</td>\n",
       "      <td>ENSG00000183878</td>\n",
       "      <td>Y</td>\n",
       "      <td>gene</td>\n",
       "      <td>13248378</td>\n",
       "      <td>13480673</td>\n",
       "      <td>-</td>\n",
       "      <td>UTY</td>\n",
       "      <td>232295</td>\n",
       "    </tr>\n",
       "  </tbody>\n",
       "</table>\n",
       "<p>4226 rows × 10 columns</p>\n",
       "</div>"
      ],
      "text/plain": [
       "                                 TSS_start    TSS_end          gene_id  \\\n",
       "transcript_id                                                            \n",
       "ENSG00000197530_newTSS             1629591    1629697  ENSG00000197530   \n",
       "ENSG00000197530_ENST00000518681    1615420    1615554  ENSG00000197530   \n",
       "ENSG00000197530_ENST00000510793    1616194    1616348  ENSG00000197530   \n",
       "ENSG00000189409_ENST00000435358    1633111    1633230  ENSG00000189409   \n",
       "ENSG00000189409_ENST00000472264    1632164    1632228  ENSG00000189409   \n",
       "...                                    ...        ...              ...   \n",
       "ENSG00000089820_ENST00000461052  153926592  153926836  ENSG00000089820   \n",
       "ENSG00000013563_newTSS           154411909  154412002  ENSG00000013563   \n",
       "ENSG00000013563_ENST00000369807  154409083  154409253  ENSG00000013563   \n",
       "ENSG00000183878_ENST00000479713   13479746   13479934  ENSG00000183878   \n",
       "ENSG00000183878_newTSS            13479231   13479358  ENSG00000183878   \n",
       "\n",
       "                                Chromosome Feature      Start        End  \\\n",
       "transcript_id                                                              \n",
       "ENSG00000197530_newTSS                   1    gene    1615414    1630610   \n",
       "ENSG00000197530_ENST00000518681          1    gene    1615414    1630610   \n",
       "ENSG00000197530_ENST00000510793          1    gene    1615414    1630610   \n",
       "ENSG00000189409_ENST00000435358          1    gene    1632162    1635263   \n",
       "ENSG00000189409_ENST00000472264          1    gene    1632162    1635263   \n",
       "...                                    ...     ...        ...        ...   \n",
       "ENSG00000089820_ENST00000461052          X    gene  153907366  153934999   \n",
       "ENSG00000013563_newTSS                   X    gene  154401235  154412112   \n",
       "ENSG00000013563_ENST00000369807          X    gene  154401235  154412112   \n",
       "ENSG00000183878_ENST00000479713          Y    gene   13248378   13480673   \n",
       "ENSG00000183878_newTSS                   Y    gene   13248378   13480673   \n",
       "\n",
       "                                Strand gene_name     len  \n",
       "transcript_id                                             \n",
       "ENSG00000197530_newTSS               +      MIB2   15196  \n",
       "ENSG00000197530_ENST00000518681      +      MIB2   15196  \n",
       "ENSG00000197530_ENST00000510793      +      MIB2   15196  \n",
       "ENSG00000189409_ENST00000435358      +    MMP23B    3101  \n",
       "ENSG00000189409_ENST00000472264      +    MMP23B    3101  \n",
       "...                                ...       ...     ...  \n",
       "ENSG00000089820_ENST00000461052      -   ARHGAP4   27633  \n",
       "ENSG00000013563_newTSS               -  DNASE1L1   10877  \n",
       "ENSG00000013563_ENST00000369807      -  DNASE1L1   10877  \n",
       "ENSG00000183878_ENST00000479713      -       UTY  232295  \n",
       "ENSG00000183878_newTSS               -       UTY  232295  \n",
       "\n",
       "[4226 rows x 10 columns]"
      ]
     },
     "execution_count": 10,
     "metadata": {},
     "output_type": "execute_result"
    }
   ],
   "source": [
    "genedf=adata.var.copy()\n",
    "genedf"
   ]
  },
  {
   "cell_type": "code",
   "execution_count": 11,
   "id": "eddb8364-e12f-49d4-9f2e-44ae2a5b73d8",
   "metadata": {},
   "outputs": [
    {
     "data": {
      "text/html": [
       "<div>\n",
       "<style scoped>\n",
       "    .dataframe tbody tr th:only-of-type {\n",
       "        vertical-align: middle;\n",
       "    }\n",
       "\n",
       "    .dataframe tbody tr th {\n",
       "        vertical-align: top;\n",
       "    }\n",
       "\n",
       "    .dataframe thead th {\n",
       "        text-align: right;\n",
       "    }\n",
       "</style>\n",
       "<table border=\"1\" class=\"dataframe\">\n",
       "  <thead>\n",
       "    <tr style=\"text-align: right;\">\n",
       "      <th></th>\n",
       "      <th>TSS_start</th>\n",
       "      <th>TSS_end</th>\n",
       "      <th>gene_id</th>\n",
       "      <th>Chromosome</th>\n",
       "      <th>Feature</th>\n",
       "      <th>Start</th>\n",
       "      <th>End</th>\n",
       "      <th>Strand</th>\n",
       "      <th>gene_name</th>\n",
       "      <th>len</th>\n",
       "      <th>count</th>\n",
       "    </tr>\n",
       "    <tr>\n",
       "      <th>transcript_id</th>\n",
       "      <th></th>\n",
       "      <th></th>\n",
       "      <th></th>\n",
       "      <th></th>\n",
       "      <th></th>\n",
       "      <th></th>\n",
       "      <th></th>\n",
       "      <th></th>\n",
       "      <th></th>\n",
       "      <th></th>\n",
       "      <th></th>\n",
       "    </tr>\n",
       "  </thead>\n",
       "  <tbody>\n",
       "    <tr>\n",
       "      <th>ENSG00000197530_newTSS</th>\n",
       "      <td>1629591</td>\n",
       "      <td>1629697</td>\n",
       "      <td>ENSG00000197530</td>\n",
       "      <td>1</td>\n",
       "      <td>gene</td>\n",
       "      <td>1615414</td>\n",
       "      <td>1630610</td>\n",
       "      <td>+</td>\n",
       "      <td>MIB2</td>\n",
       "      <td>15196</td>\n",
       "      <td>149.0</td>\n",
       "    </tr>\n",
       "    <tr>\n",
       "      <th>ENSG00000197530_ENST00000518681</th>\n",
       "      <td>1615420</td>\n",
       "      <td>1615554</td>\n",
       "      <td>ENSG00000197530</td>\n",
       "      <td>1</td>\n",
       "      <td>gene</td>\n",
       "      <td>1615414</td>\n",
       "      <td>1630610</td>\n",
       "      <td>+</td>\n",
       "      <td>MIB2</td>\n",
       "      <td>15196</td>\n",
       "      <td>521.0</td>\n",
       "    </tr>\n",
       "    <tr>\n",
       "      <th>ENSG00000197530_ENST00000510793</th>\n",
       "      <td>1616194</td>\n",
       "      <td>1616348</td>\n",
       "      <td>ENSG00000197530</td>\n",
       "      <td>1</td>\n",
       "      <td>gene</td>\n",
       "      <td>1615414</td>\n",
       "      <td>1630610</td>\n",
       "      <td>+</td>\n",
       "      <td>MIB2</td>\n",
       "      <td>15196</td>\n",
       "      <td>59.0</td>\n",
       "    </tr>\n",
       "    <tr>\n",
       "      <th>ENSG00000189409_ENST00000435358</th>\n",
       "      <td>1633111</td>\n",
       "      <td>1633230</td>\n",
       "      <td>ENSG00000189409</td>\n",
       "      <td>1</td>\n",
       "      <td>gene</td>\n",
       "      <td>1632162</td>\n",
       "      <td>1635263</td>\n",
       "      <td>+</td>\n",
       "      <td>MMP23B</td>\n",
       "      <td>3101</td>\n",
       "      <td>117.0</td>\n",
       "    </tr>\n",
       "    <tr>\n",
       "      <th>ENSG00000189409_ENST00000472264</th>\n",
       "      <td>1632164</td>\n",
       "      <td>1632228</td>\n",
       "      <td>ENSG00000189409</td>\n",
       "      <td>1</td>\n",
       "      <td>gene</td>\n",
       "      <td>1632162</td>\n",
       "      <td>1635263</td>\n",
       "      <td>+</td>\n",
       "      <td>MMP23B</td>\n",
       "      <td>3101</td>\n",
       "      <td>96.0</td>\n",
       "    </tr>\n",
       "    <tr>\n",
       "      <th>...</th>\n",
       "      <td>...</td>\n",
       "      <td>...</td>\n",
       "      <td>...</td>\n",
       "      <td>...</td>\n",
       "      <td>...</td>\n",
       "      <td>...</td>\n",
       "      <td>...</td>\n",
       "      <td>...</td>\n",
       "      <td>...</td>\n",
       "      <td>...</td>\n",
       "      <td>...</td>\n",
       "    </tr>\n",
       "    <tr>\n",
       "      <th>ENSG00000089820_ENST00000461052</th>\n",
       "      <td>153926592</td>\n",
       "      <td>153926836</td>\n",
       "      <td>ENSG00000089820</td>\n",
       "      <td>X</td>\n",
       "      <td>gene</td>\n",
       "      <td>153907366</td>\n",
       "      <td>153934999</td>\n",
       "      <td>-</td>\n",
       "      <td>ARHGAP4</td>\n",
       "      <td>27633</td>\n",
       "      <td>127.0</td>\n",
       "    </tr>\n",
       "    <tr>\n",
       "      <th>ENSG00000013563_newTSS</th>\n",
       "      <td>154411909</td>\n",
       "      <td>154412002</td>\n",
       "      <td>ENSG00000013563</td>\n",
       "      <td>X</td>\n",
       "      <td>gene</td>\n",
       "      <td>154401235</td>\n",
       "      <td>154412112</td>\n",
       "      <td>-</td>\n",
       "      <td>DNASE1L1</td>\n",
       "      <td>10877</td>\n",
       "      <td>901.0</td>\n",
       "    </tr>\n",
       "    <tr>\n",
       "      <th>ENSG00000013563_ENST00000369807</th>\n",
       "      <td>154409083</td>\n",
       "      <td>154409253</td>\n",
       "      <td>ENSG00000013563</td>\n",
       "      <td>X</td>\n",
       "      <td>gene</td>\n",
       "      <td>154401235</td>\n",
       "      <td>154412112</td>\n",
       "      <td>-</td>\n",
       "      <td>DNASE1L1</td>\n",
       "      <td>10877</td>\n",
       "      <td>838.0</td>\n",
       "    </tr>\n",
       "    <tr>\n",
       "      <th>ENSG00000183878_ENST00000479713</th>\n",
       "      <td>13479746</td>\n",
       "      <td>13479934</td>\n",
       "      <td>ENSG00000183878</td>\n",
       "      <td>Y</td>\n",
       "      <td>gene</td>\n",
       "      <td>13248378</td>\n",
       "      <td>13480673</td>\n",
       "      <td>-</td>\n",
       "      <td>UTY</td>\n",
       "      <td>232295</td>\n",
       "      <td>3606.0</td>\n",
       "    </tr>\n",
       "    <tr>\n",
       "      <th>ENSG00000183878_newTSS</th>\n",
       "      <td>13479231</td>\n",
       "      <td>13479358</td>\n",
       "      <td>ENSG00000183878</td>\n",
       "      <td>Y</td>\n",
       "      <td>gene</td>\n",
       "      <td>13248378</td>\n",
       "      <td>13480673</td>\n",
       "      <td>-</td>\n",
       "      <td>UTY</td>\n",
       "      <td>232295</td>\n",
       "      <td>139.0</td>\n",
       "    </tr>\n",
       "  </tbody>\n",
       "</table>\n",
       "<p>4226 rows × 11 columns</p>\n",
       "</div>"
      ],
      "text/plain": [
       "                                 TSS_start    TSS_end          gene_id  \\\n",
       "transcript_id                                                            \n",
       "ENSG00000197530_newTSS             1629591    1629697  ENSG00000197530   \n",
       "ENSG00000197530_ENST00000518681    1615420    1615554  ENSG00000197530   \n",
       "ENSG00000197530_ENST00000510793    1616194    1616348  ENSG00000197530   \n",
       "ENSG00000189409_ENST00000435358    1633111    1633230  ENSG00000189409   \n",
       "ENSG00000189409_ENST00000472264    1632164    1632228  ENSG00000189409   \n",
       "...                                    ...        ...              ...   \n",
       "ENSG00000089820_ENST00000461052  153926592  153926836  ENSG00000089820   \n",
       "ENSG00000013563_newTSS           154411909  154412002  ENSG00000013563   \n",
       "ENSG00000013563_ENST00000369807  154409083  154409253  ENSG00000013563   \n",
       "ENSG00000183878_ENST00000479713   13479746   13479934  ENSG00000183878   \n",
       "ENSG00000183878_newTSS            13479231   13479358  ENSG00000183878   \n",
       "\n",
       "                                Chromosome Feature      Start        End  \\\n",
       "transcript_id                                                              \n",
       "ENSG00000197530_newTSS                   1    gene    1615414    1630610   \n",
       "ENSG00000197530_ENST00000518681          1    gene    1615414    1630610   \n",
       "ENSG00000197530_ENST00000510793          1    gene    1615414    1630610   \n",
       "ENSG00000189409_ENST00000435358          1    gene    1632162    1635263   \n",
       "ENSG00000189409_ENST00000472264          1    gene    1632162    1635263   \n",
       "...                                    ...     ...        ...        ...   \n",
       "ENSG00000089820_ENST00000461052          X    gene  153907366  153934999   \n",
       "ENSG00000013563_newTSS                   X    gene  154401235  154412112   \n",
       "ENSG00000013563_ENST00000369807          X    gene  154401235  154412112   \n",
       "ENSG00000183878_ENST00000479713          Y    gene   13248378   13480673   \n",
       "ENSG00000183878_newTSS                   Y    gene   13248378   13480673   \n",
       "\n",
       "                                Strand gene_name     len   count  \n",
       "transcript_id                                                     \n",
       "ENSG00000197530_newTSS               +      MIB2   15196   149.0  \n",
       "ENSG00000197530_ENST00000518681      +      MIB2   15196   521.0  \n",
       "ENSG00000197530_ENST00000510793      +      MIB2   15196    59.0  \n",
       "ENSG00000189409_ENST00000435358      +    MMP23B    3101   117.0  \n",
       "ENSG00000189409_ENST00000472264      +    MMP23B    3101    96.0  \n",
       "...                                ...       ...     ...     ...  \n",
       "ENSG00000089820_ENST00000461052      -   ARHGAP4   27633   127.0  \n",
       "ENSG00000013563_newTSS               -  DNASE1L1   10877   901.0  \n",
       "ENSG00000013563_ENST00000369807      -  DNASE1L1   10877   838.0  \n",
       "ENSG00000183878_ENST00000479713      -       UTY  232295  3606.0  \n",
       "ENSG00000183878_newTSS               -       UTY  232295   139.0  \n",
       "\n",
       "[4226 rows x 11 columns]"
      ]
     },
     "execution_count": 11,
     "metadata": {},
     "output_type": "execute_result"
    }
   ],
   "source": [
    "genedf['count']=np.sum(adata.X,axis=0)\n",
    "genedf"
   ]
  },
  {
   "cell_type": "code",
   "execution_count": 12,
   "id": "9a688dc3-428a-442a-8415-c74a8148358e",
   "metadata": {},
   "outputs": [
    {
     "data": {
      "text/html": [
       "<div>\n",
       "<style scoped>\n",
       "    .dataframe tbody tr th:only-of-type {\n",
       "        vertical-align: middle;\n",
       "    }\n",
       "\n",
       "    .dataframe tbody tr th {\n",
       "        vertical-align: top;\n",
       "    }\n",
       "\n",
       "    .dataframe thead th {\n",
       "        text-align: right;\n",
       "    }\n",
       "</style>\n",
       "<table border=\"1\" class=\"dataframe\">\n",
       "  <thead>\n",
       "    <tr style=\"text-align: right;\">\n",
       "      <th></th>\n",
       "      <th>TSS_start</th>\n",
       "      <th>TSS_end</th>\n",
       "      <th>gene_id</th>\n",
       "      <th>Chromosome</th>\n",
       "      <th>Feature</th>\n",
       "      <th>Start</th>\n",
       "      <th>End</th>\n",
       "      <th>Strand</th>\n",
       "      <th>gene_name</th>\n",
       "      <th>len</th>\n",
       "      <th>count</th>\n",
       "    </tr>\n",
       "    <tr>\n",
       "      <th>transcript_id</th>\n",
       "      <th></th>\n",
       "      <th></th>\n",
       "      <th></th>\n",
       "      <th></th>\n",
       "      <th></th>\n",
       "      <th></th>\n",
       "      <th></th>\n",
       "      <th></th>\n",
       "      <th></th>\n",
       "      <th></th>\n",
       "      <th></th>\n",
       "    </tr>\n",
       "  </thead>\n",
       "  <tbody>\n",
       "    <tr>\n",
       "      <th>ENSG00000000460_newTSS</th>\n",
       "      <td>169683373</td>\n",
       "      <td>169683419</td>\n",
       "      <td>ENSG00000000460</td>\n",
       "      <td>1</td>\n",
       "      <td>gene</td>\n",
       "      <td>169662006</td>\n",
       "      <td>169854080</td>\n",
       "      <td>+</td>\n",
       "      <td>C1orf112</td>\n",
       "      <td>192074</td>\n",
       "      <td>418.0</td>\n",
       "    </tr>\n",
       "    <tr>\n",
       "      <th>ENSG00000000460_ENST00000359326</th>\n",
       "      <td>169794958</td>\n",
       "      <td>169795195</td>\n",
       "      <td>ENSG00000000460</td>\n",
       "      <td>1</td>\n",
       "      <td>gene</td>\n",
       "      <td>169662006</td>\n",
       "      <td>169854080</td>\n",
       "      <td>+</td>\n",
       "      <td>C1orf112</td>\n",
       "      <td>192074</td>\n",
       "      <td>751.0</td>\n",
       "    </tr>\n",
       "    <tr>\n",
       "      <th>ENSG00000000938_newTSS</th>\n",
       "      <td>27626457</td>\n",
       "      <td>27626515</td>\n",
       "      <td>ENSG00000000938</td>\n",
       "      <td>1</td>\n",
       "      <td>gene</td>\n",
       "      <td>27612063</td>\n",
       "      <td>27635185</td>\n",
       "      <td>-</td>\n",
       "      <td>FGR</td>\n",
       "      <td>23122</td>\n",
       "      <td>325.0</td>\n",
       "    </tr>\n",
       "    <tr>\n",
       "      <th>ENSG00000000938_ENST00000457296</th>\n",
       "      <td>27626045</td>\n",
       "      <td>27626174</td>\n",
       "      <td>ENSG00000000938</td>\n",
       "      <td>1</td>\n",
       "      <td>gene</td>\n",
       "      <td>27612063</td>\n",
       "      <td>27635185</td>\n",
       "      <td>-</td>\n",
       "      <td>FGR</td>\n",
       "      <td>23122</td>\n",
       "      <td>732.0</td>\n",
       "    </tr>\n",
       "    <tr>\n",
       "      <th>ENSG00000001167_newTSS</th>\n",
       "      <td>41080778</td>\n",
       "      <td>41080854</td>\n",
       "      <td>ENSG00000001167</td>\n",
       "      <td>6</td>\n",
       "      <td>gene</td>\n",
       "      <td>41072944</td>\n",
       "      <td>41099976</td>\n",
       "      <td>+</td>\n",
       "      <td>NFYA</td>\n",
       "      <td>27032</td>\n",
       "      <td>103.0</td>\n",
       "    </tr>\n",
       "    <tr>\n",
       "      <th>...</th>\n",
       "      <td>...</td>\n",
       "      <td>...</td>\n",
       "      <td>...</td>\n",
       "      <td>...</td>\n",
       "      <td>...</td>\n",
       "      <td>...</td>\n",
       "      <td>...</td>\n",
       "      <td>...</td>\n",
       "      <td>...</td>\n",
       "      <td>...</td>\n",
       "      <td>...</td>\n",
       "    </tr>\n",
       "    <tr>\n",
       "      <th>ENSG00000284691_ENST00000641717</th>\n",
       "      <td>150405407</td>\n",
       "      <td>150405450</td>\n",
       "      <td>ENSG00000284691</td>\n",
       "      <td>7</td>\n",
       "      <td>gene</td>\n",
       "      <td>150400701</td>\n",
       "      <td>150412470</td>\n",
       "      <td>+</td>\n",
       "      <td>AC073111.4</td>\n",
       "      <td>11769</td>\n",
       "      <td>100.0</td>\n",
       "    </tr>\n",
       "    <tr>\n",
       "      <th>ENSG00000285077_ENST00000567449</th>\n",
       "      <td>30624493</td>\n",
       "      <td>30624569</td>\n",
       "      <td>ENSG00000285077</td>\n",
       "      <td>15</td>\n",
       "      <td>gene</td>\n",
       "      <td>30624493</td>\n",
       "      <td>30649529</td>\n",
       "      <td>+</td>\n",
       "      <td>AC091057.6</td>\n",
       "      <td>25036</td>\n",
       "      <td>55.0</td>\n",
       "    </tr>\n",
       "    <tr>\n",
       "      <th>ENSG00000285077_newTSS</th>\n",
       "      <td>30626051</td>\n",
       "      <td>30626146</td>\n",
       "      <td>ENSG00000285077</td>\n",
       "      <td>15</td>\n",
       "      <td>gene</td>\n",
       "      <td>30624493</td>\n",
       "      <td>30649529</td>\n",
       "      <td>+</td>\n",
       "      <td>AC091057.6</td>\n",
       "      <td>25036</td>\n",
       "      <td>421.0</td>\n",
       "    </tr>\n",
       "    <tr>\n",
       "      <th>ENSG00000285106_newTSS</th>\n",
       "      <td>131109754</td>\n",
       "      <td>131109946</td>\n",
       "      <td>ENSG00000285106</td>\n",
       "      <td>7</td>\n",
       "      <td>gene</td>\n",
       "      <td>130791263</td>\n",
       "      <td>131110161</td>\n",
       "      <td>-</td>\n",
       "      <td>AC016831.7</td>\n",
       "      <td>318898</td>\n",
       "      <td>226.0</td>\n",
       "    </tr>\n",
       "    <tr>\n",
       "      <th>ENSG00000285106_ENST00000642963</th>\n",
       "      <td>131107859</td>\n",
       "      <td>131108049</td>\n",
       "      <td>ENSG00000285106</td>\n",
       "      <td>7</td>\n",
       "      <td>gene</td>\n",
       "      <td>130791263</td>\n",
       "      <td>131110161</td>\n",
       "      <td>-</td>\n",
       "      <td>AC016831.7</td>\n",
       "      <td>318898</td>\n",
       "      <td>6762.0</td>\n",
       "    </tr>\n",
       "  </tbody>\n",
       "</table>\n",
       "<p>3568 rows × 11 columns</p>\n",
       "</div>"
      ],
      "text/plain": [
       "                                 TSS_start    TSS_end          gene_id  \\\n",
       "transcript_id                                                            \n",
       "ENSG00000000460_newTSS           169683373  169683419  ENSG00000000460   \n",
       "ENSG00000000460_ENST00000359326  169794958  169795195  ENSG00000000460   \n",
       "ENSG00000000938_newTSS            27626457   27626515  ENSG00000000938   \n",
       "ENSG00000000938_ENST00000457296   27626045   27626174  ENSG00000000938   \n",
       "ENSG00000001167_newTSS            41080778   41080854  ENSG00000001167   \n",
       "...                                    ...        ...              ...   \n",
       "ENSG00000284691_ENST00000641717  150405407  150405450  ENSG00000284691   \n",
       "ENSG00000285077_ENST00000567449   30624493   30624569  ENSG00000285077   \n",
       "ENSG00000285077_newTSS            30626051   30626146  ENSG00000285077   \n",
       "ENSG00000285106_newTSS           131109754  131109946  ENSG00000285106   \n",
       "ENSG00000285106_ENST00000642963  131107859  131108049  ENSG00000285106   \n",
       "\n",
       "                                Chromosome Feature      Start        End  \\\n",
       "transcript_id                                                              \n",
       "ENSG00000000460_newTSS                   1    gene  169662006  169854080   \n",
       "ENSG00000000460_ENST00000359326          1    gene  169662006  169854080   \n",
       "ENSG00000000938_newTSS                   1    gene   27612063   27635185   \n",
       "ENSG00000000938_ENST00000457296          1    gene   27612063   27635185   \n",
       "ENSG00000001167_newTSS                   6    gene   41072944   41099976   \n",
       "...                                    ...     ...        ...        ...   \n",
       "ENSG00000284691_ENST00000641717          7    gene  150400701  150412470   \n",
       "ENSG00000285077_ENST00000567449         15    gene   30624493   30649529   \n",
       "ENSG00000285077_newTSS                  15    gene   30624493   30649529   \n",
       "ENSG00000285106_newTSS                   7    gene  130791263  131110161   \n",
       "ENSG00000285106_ENST00000642963          7    gene  130791263  131110161   \n",
       "\n",
       "                                Strand   gene_name     len   count  \n",
       "transcript_id                                                       \n",
       "ENSG00000000460_newTSS               +    C1orf112  192074   418.0  \n",
       "ENSG00000000460_ENST00000359326      +    C1orf112  192074   751.0  \n",
       "ENSG00000000938_newTSS               -         FGR   23122   325.0  \n",
       "ENSG00000000938_ENST00000457296      -         FGR   23122   732.0  \n",
       "ENSG00000001167_newTSS               +        NFYA   27032   103.0  \n",
       "...                                ...         ...     ...     ...  \n",
       "ENSG00000284691_ENST00000641717      +  AC073111.4   11769   100.0  \n",
       "ENSG00000285077_ENST00000567449      +  AC091057.6   25036    55.0  \n",
       "ENSG00000285077_newTSS               +  AC091057.6   25036   421.0  \n",
       "ENSG00000285106_newTSS               -  AC016831.7  318898   226.0  \n",
       "ENSG00000285106_ENST00000642963      -  AC016831.7  318898  6762.0  \n",
       "\n",
       "[3568 rows x 11 columns]"
      ]
     },
     "execution_count": 12,
     "metadata": {},
     "output_type": "execute_result"
    }
   ],
   "source": [
    "keepdf=genedf.sort_values(['gene_id','count']).groupby('gene_id').tail(2)\n",
    "keepdf"
   ]
  },
  {
   "cell_type": "code",
   "execution_count": 13,
   "id": "1366b822-c60d-4288-8579-303e7866ebbc",
   "metadata": {},
   "outputs": [
    {
     "data": {
      "text/html": [
       "<div>\n",
       "<style scoped>\n",
       "    .dataframe tbody tr th:only-of-type {\n",
       "        vertical-align: middle;\n",
       "    }\n",
       "\n",
       "    .dataframe tbody tr th {\n",
       "        vertical-align: top;\n",
       "    }\n",
       "\n",
       "    .dataframe thead th {\n",
       "        text-align: right;\n",
       "    }\n",
       "</style>\n",
       "<table border=\"1\" class=\"dataframe\">\n",
       "  <thead>\n",
       "    <tr style=\"text-align: right;\">\n",
       "      <th></th>\n",
       "      <th>TSS_start</th>\n",
       "      <th>TSS_end</th>\n",
       "      <th>gene_id</th>\n",
       "      <th>Chromosome</th>\n",
       "      <th>Feature</th>\n",
       "      <th>Start</th>\n",
       "      <th>End</th>\n",
       "      <th>Strand</th>\n",
       "      <th>gene_name</th>\n",
       "      <th>len</th>\n",
       "      <th>count</th>\n",
       "    </tr>\n",
       "    <tr>\n",
       "      <th>transcript_id</th>\n",
       "      <th></th>\n",
       "      <th></th>\n",
       "      <th></th>\n",
       "      <th></th>\n",
       "      <th></th>\n",
       "      <th></th>\n",
       "      <th></th>\n",
       "      <th></th>\n",
       "      <th></th>\n",
       "      <th></th>\n",
       "      <th></th>\n",
       "    </tr>\n",
       "  </thead>\n",
       "  <tbody>\n",
       "    <tr>\n",
       "      <th>ENSG00000000460_newTSS</th>\n",
       "      <td>169683373</td>\n",
       "      <td>169683419</td>\n",
       "      <td>ENSG00000000460</td>\n",
       "      <td>1</td>\n",
       "      <td>gene</td>\n",
       "      <td>169662006</td>\n",
       "      <td>169854080</td>\n",
       "      <td>+</td>\n",
       "      <td>C1orf112</td>\n",
       "      <td>192074</td>\n",
       "      <td>418.0</td>\n",
       "    </tr>\n",
       "    <tr>\n",
       "      <th>ENSG00000000938_newTSS</th>\n",
       "      <td>27626457</td>\n",
       "      <td>27626515</td>\n",
       "      <td>ENSG00000000938</td>\n",
       "      <td>1</td>\n",
       "      <td>gene</td>\n",
       "      <td>27612063</td>\n",
       "      <td>27635185</td>\n",
       "      <td>-</td>\n",
       "      <td>FGR</td>\n",
       "      <td>23122</td>\n",
       "      <td>325.0</td>\n",
       "    </tr>\n",
       "    <tr>\n",
       "      <th>ENSG00000001167_newTSS</th>\n",
       "      <td>41080778</td>\n",
       "      <td>41080854</td>\n",
       "      <td>ENSG00000001167</td>\n",
       "      <td>6</td>\n",
       "      <td>gene</td>\n",
       "      <td>41072944</td>\n",
       "      <td>41099976</td>\n",
       "      <td>+</td>\n",
       "      <td>NFYA</td>\n",
       "      <td>27032</td>\n",
       "      <td>103.0</td>\n",
       "    </tr>\n",
       "    <tr>\n",
       "      <th>ENSG00000001460_newTSS</th>\n",
       "      <td>24413671</td>\n",
       "      <td>24413692</td>\n",
       "      <td>ENSG00000001460</td>\n",
       "      <td>1</td>\n",
       "      <td>gene</td>\n",
       "      <td>24356998</td>\n",
       "      <td>24416934</td>\n",
       "      <td>-</td>\n",
       "      <td>STPG1</td>\n",
       "      <td>59936</td>\n",
       "      <td>57.0</td>\n",
       "    </tr>\n",
       "    <tr>\n",
       "      <th>ENSG00000001631_newTSS</th>\n",
       "      <td>92245433</td>\n",
       "      <td>92245509</td>\n",
       "      <td>ENSG00000001631</td>\n",
       "      <td>7</td>\n",
       "      <td>gene</td>\n",
       "      <td>92198968</td>\n",
       "      <td>92246166</td>\n",
       "      <td>-</td>\n",
       "      <td>KRIT1</td>\n",
       "      <td>47198</td>\n",
       "      <td>142.0</td>\n",
       "    </tr>\n",
       "    <tr>\n",
       "      <th>...</th>\n",
       "      <td>...</td>\n",
       "      <td>...</td>\n",
       "      <td>...</td>\n",
       "      <td>...</td>\n",
       "      <td>...</td>\n",
       "      <td>...</td>\n",
       "      <td>...</td>\n",
       "      <td>...</td>\n",
       "      <td>...</td>\n",
       "      <td>...</td>\n",
       "      <td>...</td>\n",
       "    </tr>\n",
       "    <tr>\n",
       "      <th>ENSG00000278558_newTSS</th>\n",
       "      <td>18528598</td>\n",
       "      <td>18528654</td>\n",
       "      <td>ENSG00000278558</td>\n",
       "      <td>22</td>\n",
       "      <td>gene</td>\n",
       "      <td>18527801</td>\n",
       "      <td>18530573</td>\n",
       "      <td>+</td>\n",
       "      <td>TMEM191B</td>\n",
       "      <td>2772</td>\n",
       "      <td>97.0</td>\n",
       "    </tr>\n",
       "    <tr>\n",
       "      <th>ENSG00000278709_newTSS</th>\n",
       "      <td>57710609</td>\n",
       "      <td>57710825</td>\n",
       "      <td>ENSG00000278709</td>\n",
       "      <td>20</td>\n",
       "      <td>gene</td>\n",
       "      <td>57710155</td>\n",
       "      <td>57712780</td>\n",
       "      <td>+</td>\n",
       "      <td>NKILA</td>\n",
       "      <td>2625</td>\n",
       "      <td>71.0</td>\n",
       "    </tr>\n",
       "    <tr>\n",
       "      <th>ENSG00000284691_newTSS</th>\n",
       "      <td>150408026</td>\n",
       "      <td>150408165</td>\n",
       "      <td>ENSG00000284691</td>\n",
       "      <td>7</td>\n",
       "      <td>gene</td>\n",
       "      <td>150400701</td>\n",
       "      <td>150412470</td>\n",
       "      <td>+</td>\n",
       "      <td>AC073111.4</td>\n",
       "      <td>11769</td>\n",
       "      <td>93.0</td>\n",
       "    </tr>\n",
       "    <tr>\n",
       "      <th>ENSG00000285077_ENST00000567449</th>\n",
       "      <td>30624493</td>\n",
       "      <td>30624569</td>\n",
       "      <td>ENSG00000285077</td>\n",
       "      <td>15</td>\n",
       "      <td>gene</td>\n",
       "      <td>30624493</td>\n",
       "      <td>30649529</td>\n",
       "      <td>+</td>\n",
       "      <td>AC091057.6</td>\n",
       "      <td>25036</td>\n",
       "      <td>55.0</td>\n",
       "    </tr>\n",
       "    <tr>\n",
       "      <th>ENSG00000285106_newTSS</th>\n",
       "      <td>131109754</td>\n",
       "      <td>131109946</td>\n",
       "      <td>ENSG00000285106</td>\n",
       "      <td>7</td>\n",
       "      <td>gene</td>\n",
       "      <td>130791263</td>\n",
       "      <td>131110161</td>\n",
       "      <td>-</td>\n",
       "      <td>AC016831.7</td>\n",
       "      <td>318898</td>\n",
       "      <td>226.0</td>\n",
       "    </tr>\n",
       "  </tbody>\n",
       "</table>\n",
       "<p>1784 rows × 11 columns</p>\n",
       "</div>"
      ],
      "text/plain": [
       "                                 TSS_start    TSS_end          gene_id  \\\n",
       "transcript_id                                                            \n",
       "ENSG00000000460_newTSS           169683373  169683419  ENSG00000000460   \n",
       "ENSG00000000938_newTSS            27626457   27626515  ENSG00000000938   \n",
       "ENSG00000001167_newTSS            41080778   41080854  ENSG00000001167   \n",
       "ENSG00000001460_newTSS            24413671   24413692  ENSG00000001460   \n",
       "ENSG00000001631_newTSS            92245433   92245509  ENSG00000001631   \n",
       "...                                    ...        ...              ...   \n",
       "ENSG00000278558_newTSS            18528598   18528654  ENSG00000278558   \n",
       "ENSG00000278709_newTSS            57710609   57710825  ENSG00000278709   \n",
       "ENSG00000284691_newTSS           150408026  150408165  ENSG00000284691   \n",
       "ENSG00000285077_ENST00000567449   30624493   30624569  ENSG00000285077   \n",
       "ENSG00000285106_newTSS           131109754  131109946  ENSG00000285106   \n",
       "\n",
       "                                Chromosome Feature      Start        End  \\\n",
       "transcript_id                                                              \n",
       "ENSG00000000460_newTSS                   1    gene  169662006  169854080   \n",
       "ENSG00000000938_newTSS                   1    gene   27612063   27635185   \n",
       "ENSG00000001167_newTSS                   6    gene   41072944   41099976   \n",
       "ENSG00000001460_newTSS                   1    gene   24356998   24416934   \n",
       "ENSG00000001631_newTSS                   7    gene   92198968   92246166   \n",
       "...                                    ...     ...        ...        ...   \n",
       "ENSG00000278558_newTSS                  22    gene   18527801   18530573   \n",
       "ENSG00000278709_newTSS                  20    gene   57710155   57712780   \n",
       "ENSG00000284691_newTSS                   7    gene  150400701  150412470   \n",
       "ENSG00000285077_ENST00000567449         15    gene   30624493   30649529   \n",
       "ENSG00000285106_newTSS                   7    gene  130791263  131110161   \n",
       "\n",
       "                                Strand   gene_name     len  count  \n",
       "transcript_id                                                      \n",
       "ENSG00000000460_newTSS               +    C1orf112  192074  418.0  \n",
       "ENSG00000000938_newTSS               -         FGR   23122  325.0  \n",
       "ENSG00000001167_newTSS               +        NFYA   27032  103.0  \n",
       "ENSG00000001460_newTSS               -       STPG1   59936   57.0  \n",
       "ENSG00000001631_newTSS               -       KRIT1   47198  142.0  \n",
       "...                                ...         ...     ...    ...  \n",
       "ENSG00000278558_newTSS               +    TMEM191B    2772   97.0  \n",
       "ENSG00000278709_newTSS               +       NKILA    2625   71.0  \n",
       "ENSG00000284691_newTSS               +  AC073111.4   11769   93.0  \n",
       "ENSG00000285077_ENST00000567449      +  AC091057.6   25036   55.0  \n",
       "ENSG00000285106_newTSS               -  AC016831.7  318898  226.0  \n",
       "\n",
       "[1784 rows x 11 columns]"
      ]
     },
     "execution_count": 13,
     "metadata": {},
     "output_type": "execute_result"
    }
   ],
   "source": [
    "firstdf=keepdf[::2]\n",
    "firstdf"
   ]
  },
  {
   "cell_type": "code",
   "execution_count": 14,
   "id": "400dbf6e-e4f4-4ee1-b73a-b21ff7fbb65a",
   "metadata": {},
   "outputs": [
    {
     "data": {
      "text/html": [
       "<div>\n",
       "<style scoped>\n",
       "    .dataframe tbody tr th:only-of-type {\n",
       "        vertical-align: middle;\n",
       "    }\n",
       "\n",
       "    .dataframe tbody tr th {\n",
       "        vertical-align: top;\n",
       "    }\n",
       "\n",
       "    .dataframe thead th {\n",
       "        text-align: right;\n",
       "    }\n",
       "</style>\n",
       "<table border=\"1\" class=\"dataframe\">\n",
       "  <thead>\n",
       "    <tr style=\"text-align: right;\">\n",
       "      <th></th>\n",
       "      <th>TSS_start</th>\n",
       "      <th>TSS_end</th>\n",
       "      <th>gene_id</th>\n",
       "      <th>Chromosome</th>\n",
       "      <th>Feature</th>\n",
       "      <th>Start</th>\n",
       "      <th>End</th>\n",
       "      <th>Strand</th>\n",
       "      <th>gene_name</th>\n",
       "      <th>len</th>\n",
       "      <th>count</th>\n",
       "    </tr>\n",
       "    <tr>\n",
       "      <th>transcript_id</th>\n",
       "      <th></th>\n",
       "      <th></th>\n",
       "      <th></th>\n",
       "      <th></th>\n",
       "      <th></th>\n",
       "      <th></th>\n",
       "      <th></th>\n",
       "      <th></th>\n",
       "      <th></th>\n",
       "      <th></th>\n",
       "      <th></th>\n",
       "    </tr>\n",
       "  </thead>\n",
       "  <tbody>\n",
       "    <tr>\n",
       "      <th>ENSG00000000460_ENST00000359326</th>\n",
       "      <td>169794958</td>\n",
       "      <td>169795195</td>\n",
       "      <td>ENSG00000000460</td>\n",
       "      <td>1</td>\n",
       "      <td>gene</td>\n",
       "      <td>169662006</td>\n",
       "      <td>169854080</td>\n",
       "      <td>+</td>\n",
       "      <td>C1orf112</td>\n",
       "      <td>192074</td>\n",
       "      <td>751.0</td>\n",
       "    </tr>\n",
       "    <tr>\n",
       "      <th>ENSG00000000938_ENST00000457296</th>\n",
       "      <td>27626045</td>\n",
       "      <td>27626174</td>\n",
       "      <td>ENSG00000000938</td>\n",
       "      <td>1</td>\n",
       "      <td>gene</td>\n",
       "      <td>27612063</td>\n",
       "      <td>27635185</td>\n",
       "      <td>-</td>\n",
       "      <td>FGR</td>\n",
       "      <td>23122</td>\n",
       "      <td>732.0</td>\n",
       "    </tr>\n",
       "    <tr>\n",
       "      <th>ENSG00000001167_ENST00000341376</th>\n",
       "      <td>41072944</td>\n",
       "      <td>41073076</td>\n",
       "      <td>ENSG00000001167</td>\n",
       "      <td>6</td>\n",
       "      <td>gene</td>\n",
       "      <td>41072944</td>\n",
       "      <td>41099976</td>\n",
       "      <td>+</td>\n",
       "      <td>NFYA</td>\n",
       "      <td>27032</td>\n",
       "      <td>2039.0</td>\n",
       "    </tr>\n",
       "    <tr>\n",
       "      <th>ENSG00000001460_ENST00000483261</th>\n",
       "      <td>24391926</td>\n",
       "      <td>24392095</td>\n",
       "      <td>ENSG00000001460</td>\n",
       "      <td>1</td>\n",
       "      <td>gene</td>\n",
       "      <td>24356998</td>\n",
       "      <td>24416934</td>\n",
       "      <td>-</td>\n",
       "      <td>STPG1</td>\n",
       "      <td>59936</td>\n",
       "      <td>58.0</td>\n",
       "    </tr>\n",
       "    <tr>\n",
       "      <th>ENSG00000001631_ENST00000412043</th>\n",
       "      <td>92245674</td>\n",
       "      <td>92245834</td>\n",
       "      <td>ENSG00000001631</td>\n",
       "      <td>7</td>\n",
       "      <td>gene</td>\n",
       "      <td>92198968</td>\n",
       "      <td>92246166</td>\n",
       "      <td>-</td>\n",
       "      <td>KRIT1</td>\n",
       "      <td>47198</td>\n",
       "      <td>4188.0</td>\n",
       "    </tr>\n",
       "    <tr>\n",
       "      <th>...</th>\n",
       "      <td>...</td>\n",
       "      <td>...</td>\n",
       "      <td>...</td>\n",
       "      <td>...</td>\n",
       "      <td>...</td>\n",
       "      <td>...</td>\n",
       "      <td>...</td>\n",
       "      <td>...</td>\n",
       "      <td>...</td>\n",
       "      <td>...</td>\n",
       "      <td>...</td>\n",
       "    </tr>\n",
       "    <tr>\n",
       "      <th>ENSG00000278558_ENST00000618859</th>\n",
       "      <td>18529298</td>\n",
       "      <td>18529492</td>\n",
       "      <td>ENSG00000278558</td>\n",
       "      <td>22</td>\n",
       "      <td>gene</td>\n",
       "      <td>18527801</td>\n",
       "      <td>18530573</td>\n",
       "      <td>+</td>\n",
       "      <td>TMEM191B</td>\n",
       "      <td>2772</td>\n",
       "      <td>358.0</td>\n",
       "    </tr>\n",
       "    <tr>\n",
       "      <th>ENSG00000278709_ENST00000614771</th>\n",
       "      <td>57710157</td>\n",
       "      <td>57710345</td>\n",
       "      <td>ENSG00000278709</td>\n",
       "      <td>20</td>\n",
       "      <td>gene</td>\n",
       "      <td>57710155</td>\n",
       "      <td>57712780</td>\n",
       "      <td>+</td>\n",
       "      <td>NKILA</td>\n",
       "      <td>2625</td>\n",
       "      <td>495.0</td>\n",
       "    </tr>\n",
       "    <tr>\n",
       "      <th>ENSG00000284691_ENST00000641717</th>\n",
       "      <td>150405407</td>\n",
       "      <td>150405450</td>\n",
       "      <td>ENSG00000284691</td>\n",
       "      <td>7</td>\n",
       "      <td>gene</td>\n",
       "      <td>150400701</td>\n",
       "      <td>150412470</td>\n",
       "      <td>+</td>\n",
       "      <td>AC073111.4</td>\n",
       "      <td>11769</td>\n",
       "      <td>100.0</td>\n",
       "    </tr>\n",
       "    <tr>\n",
       "      <th>ENSG00000285077_newTSS</th>\n",
       "      <td>30626051</td>\n",
       "      <td>30626146</td>\n",
       "      <td>ENSG00000285077</td>\n",
       "      <td>15</td>\n",
       "      <td>gene</td>\n",
       "      <td>30624493</td>\n",
       "      <td>30649529</td>\n",
       "      <td>+</td>\n",
       "      <td>AC091057.6</td>\n",
       "      <td>25036</td>\n",
       "      <td>421.0</td>\n",
       "    </tr>\n",
       "    <tr>\n",
       "      <th>ENSG00000285106_ENST00000642963</th>\n",
       "      <td>131107859</td>\n",
       "      <td>131108049</td>\n",
       "      <td>ENSG00000285106</td>\n",
       "      <td>7</td>\n",
       "      <td>gene</td>\n",
       "      <td>130791263</td>\n",
       "      <td>131110161</td>\n",
       "      <td>-</td>\n",
       "      <td>AC016831.7</td>\n",
       "      <td>318898</td>\n",
       "      <td>6762.0</td>\n",
       "    </tr>\n",
       "  </tbody>\n",
       "</table>\n",
       "<p>1784 rows × 11 columns</p>\n",
       "</div>"
      ],
      "text/plain": [
       "                                 TSS_start    TSS_end          gene_id  \\\n",
       "transcript_id                                                            \n",
       "ENSG00000000460_ENST00000359326  169794958  169795195  ENSG00000000460   \n",
       "ENSG00000000938_ENST00000457296   27626045   27626174  ENSG00000000938   \n",
       "ENSG00000001167_ENST00000341376   41072944   41073076  ENSG00000001167   \n",
       "ENSG00000001460_ENST00000483261   24391926   24392095  ENSG00000001460   \n",
       "ENSG00000001631_ENST00000412043   92245674   92245834  ENSG00000001631   \n",
       "...                                    ...        ...              ...   \n",
       "ENSG00000278558_ENST00000618859   18529298   18529492  ENSG00000278558   \n",
       "ENSG00000278709_ENST00000614771   57710157   57710345  ENSG00000278709   \n",
       "ENSG00000284691_ENST00000641717  150405407  150405450  ENSG00000284691   \n",
       "ENSG00000285077_newTSS            30626051   30626146  ENSG00000285077   \n",
       "ENSG00000285106_ENST00000642963  131107859  131108049  ENSG00000285106   \n",
       "\n",
       "                                Chromosome Feature      Start        End  \\\n",
       "transcript_id                                                              \n",
       "ENSG00000000460_ENST00000359326          1    gene  169662006  169854080   \n",
       "ENSG00000000938_ENST00000457296          1    gene   27612063   27635185   \n",
       "ENSG00000001167_ENST00000341376          6    gene   41072944   41099976   \n",
       "ENSG00000001460_ENST00000483261          1    gene   24356998   24416934   \n",
       "ENSG00000001631_ENST00000412043          7    gene   92198968   92246166   \n",
       "...                                    ...     ...        ...        ...   \n",
       "ENSG00000278558_ENST00000618859         22    gene   18527801   18530573   \n",
       "ENSG00000278709_ENST00000614771         20    gene   57710155   57712780   \n",
       "ENSG00000284691_ENST00000641717          7    gene  150400701  150412470   \n",
       "ENSG00000285077_newTSS                  15    gene   30624493   30649529   \n",
       "ENSG00000285106_ENST00000642963          7    gene  130791263  131110161   \n",
       "\n",
       "                                Strand   gene_name     len   count  \n",
       "transcript_id                                                       \n",
       "ENSG00000000460_ENST00000359326      +    C1orf112  192074   751.0  \n",
       "ENSG00000000938_ENST00000457296      -         FGR   23122   732.0  \n",
       "ENSG00000001167_ENST00000341376      +        NFYA   27032  2039.0  \n",
       "ENSG00000001460_ENST00000483261      -       STPG1   59936    58.0  \n",
       "ENSG00000001631_ENST00000412043      -       KRIT1   47198  4188.0  \n",
       "...                                ...         ...     ...     ...  \n",
       "ENSG00000278558_ENST00000618859      +    TMEM191B    2772   358.0  \n",
       "ENSG00000278709_ENST00000614771      +       NKILA    2625   495.0  \n",
       "ENSG00000284691_ENST00000641717      +  AC073111.4   11769   100.0  \n",
       "ENSG00000285077_newTSS               +  AC091057.6   25036   421.0  \n",
       "ENSG00000285106_ENST00000642963      -  AC016831.7  318898  6762.0  \n",
       "\n",
       "[1784 rows x 11 columns]"
      ]
     },
     "execution_count": 14,
     "metadata": {},
     "output_type": "execute_result"
    }
   ],
   "source": [
    "seconddf=keepdf[1::2]\n",
    "seconddf"
   ]
  },
  {
   "cell_type": "markdown",
   "id": "0f1b3bb3-9741-4eb5-8516-2b53d2d87b0e",
   "metadata": {},
   "source": [
    "Get the expression data with the same cell and same genes as TSS adata"
   ]
  },
  {
   "cell_type": "code",
   "execution_count": 19,
   "id": "5f088b97-e51d-4cdd-aaa8-52981182af84",
   "metadata": {},
   "outputs": [
    {
     "data": {
      "text/plain": [
       "View of AnnData object with n_obs × n_vars = 51001 × 1784\n",
       "    obs: 'index', 'cell_id', 'batch'\n",
       "    var: 'gene_ids', 'feature_types', 'gene_name'"
      ]
     },
     "execution_count": 19,
     "metadata": {},
     "output_type": "execute_result"
    }
   ],
   "source": [
    "keepexpadata=expadata[adata.obs.index.tolist(),seconddf['gene_id'].tolist()]\n",
    "keepexpadata"
   ]
  },
  {
   "cell_type": "code",
   "execution_count": 20,
   "id": "483a7718-1d34-4e10-9332-325566f024aa",
   "metadata": {},
   "outputs": [
    {
     "data": {
      "text/plain": [
       "array([[0., 0., 0., ..., 0., 0., 0.],\n",
       "       [0., 0., 0., ..., 0., 0., 0.],\n",
       "       [0., 0., 0., ..., 0., 0., 1.],\n",
       "       ...,\n",
       "       [0., 0., 0., ..., 0., 0., 0.],\n",
       "       [0., 0., 0., ..., 0., 0., 0.],\n",
       "       [0., 0., 0., ..., 0., 0., 1.]], dtype=float32)"
      ]
     },
     "execution_count": 20,
     "metadata": {},
     "output_type": "execute_result"
    }
   ],
   "source": [
    "keepexpadata.X.toarray()"
   ]
  },
  {
   "cell_type": "markdown",
   "id": "e2531867-574f-4149-819a-60b20a84a54b",
   "metadata": {},
   "source": [
    "Add `isoform1` and `isoform2` to the layer of expression data and add the name of `isoform1` and the name of `isoform2` to the gene name"
   ]
  },
  {
   "cell_type": "code",
   "execution_count": 21,
   "id": "971fc18c-9a23-4856-983b-437aceb96705",
   "metadata": {},
   "outputs": [
    {
     "data": {
      "text/plain": [
       "View of AnnData object with n_obs × n_vars = 51001 × 1784\n",
       "    var: 'TSS_start', 'TSS_end', 'gene_id', 'Chromosome', 'Feature', 'Start', 'End', 'Strand', 'gene_name', 'len'"
      ]
     },
     "execution_count": 21,
     "metadata": {},
     "output_type": "execute_result"
    }
   ],
   "source": [
    "isoform1adata=TSSadata[:,firstdf.index.tolist()]\n",
    "isoform1adata"
   ]
  },
  {
   "cell_type": "code",
   "execution_count": 23,
   "id": "7b1cb917-5139-44b8-9cf1-c2fdf5f02b1d",
   "metadata": {},
   "outputs": [
    {
     "data": {
      "text/plain": [
       "ArrayView([[0., 0., 0., ..., 0., 0., 0.],\n",
       "           [0., 0., 0., ..., 0., 0., 0.],\n",
       "           [0., 0., 0., ..., 0., 0., 0.],\n",
       "           ...,\n",
       "           [0., 0., 0., ..., 0., 0., 0.],\n",
       "           [0., 0., 0., ..., 0., 0., 0.],\n",
       "           [0., 0., 0., ..., 0., 0., 0.]], dtype=float32)"
      ]
     },
     "execution_count": 23,
     "metadata": {},
     "output_type": "execute_result"
    }
   ],
   "source": [
    "isoform1adata.X"
   ]
  },
  {
   "cell_type": "code",
   "execution_count": 22,
   "id": "f732b12d-c009-4617-9a4e-be79ed0198f2",
   "metadata": {},
   "outputs": [
    {
     "data": {
      "text/plain": [
       "View of AnnData object with n_obs × n_vars = 51001 × 1784\n",
       "    var: 'TSS_start', 'TSS_end', 'gene_id', 'Chromosome', 'Feature', 'Start', 'End', 'Strand', 'gene_name', 'len'"
      ]
     },
     "execution_count": 22,
     "metadata": {},
     "output_type": "execute_result"
    }
   ],
   "source": [
    "isoform2adata=TSSadata[:,seconddf.index.tolist()]\n",
    "isoform2adata"
   ]
  },
  {
   "cell_type": "code",
   "execution_count": 24,
   "id": "701120a9-3bea-437d-b3e2-e678fbfb1bd8",
   "metadata": {},
   "outputs": [
    {
     "data": {
      "text/plain": [
       "ArrayView([[0., 0., 0., ..., 0., 0., 0.],\n",
       "           [0., 0., 0., ..., 0., 0., 0.],\n",
       "           [0., 0., 0., ..., 0., 0., 1.],\n",
       "           ...,\n",
       "           [0., 0., 0., ..., 0., 0., 0.],\n",
       "           [0., 0., 0., ..., 0., 0., 0.],\n",
       "           [0., 0., 0., ..., 0., 0., 2.]], dtype=float32)"
      ]
     },
     "execution_count": 24,
     "metadata": {},
     "output_type": "execute_result"
    }
   ],
   "source": [
    "isoform2adata.X"
   ]
  },
  {
   "cell_type": "code",
   "execution_count": 25,
   "id": "24db0e9f-7136-4866-a055-6ae55f18d056",
   "metadata": {},
   "outputs": [],
   "source": [
    "keepexpadata.layers['isoform1']=isoform1adata.X\n",
    "keepexpadata.layers['isoform2']=isoform2adata.X"
   ]
  },
  {
   "cell_type": "code",
   "execution_count": 26,
   "id": "2da982fb-b33a-44eb-990b-93d61295821d",
   "metadata": {},
   "outputs": [],
   "source": [
    "keepexpadata.var['isoform1_name']=isoform1adata.var.index.values\n",
    "keepexpadata.var['isoform2_name']=isoform2adata.var.index.values"
   ]
  },
  {
   "cell_type": "markdown",
   "id": "63fe6c2f-7123-44cf-a848-dd977953a2ee",
   "metadata": {},
   "source": [
    "We did not the `ambiguous` count value, so we set them as zero."
   ]
  },
  {
   "cell_type": "code",
   "execution_count": 27,
   "id": "9d5c368b-6453-4069-bd31-69d8d810fc66",
   "metadata": {},
   "outputs": [
    {
     "data": {
      "text/plain": [
       "AnnData object with n_obs × n_vars = 51001 × 1784\n",
       "    obs: 'index', 'cell_id', 'batch'\n",
       "    var: 'gene_ids', 'feature_types', 'gene_name', 'isoform1_name', 'isoform2_name'\n",
       "    layers: 'isoform1', 'isoform2', 'ambiguous'"
      ]
     },
     "execution_count": 27,
     "metadata": {},
     "output_type": "execute_result"
    }
   ],
   "source": [
    "keepexpadata.layers['ambiguous']=np.zeros((51001, 1784))\n",
    "keepexpadata"
   ]
  },
  {
   "cell_type": "markdown",
   "id": "d3fb1ac2-8d42-402d-ac58-1035c22eafa7",
   "metadata": {},
   "source": [
    "In order to run BRIE2 smoothly, we set the type of data as `float32`"
   ]
  },
  {
   "cell_type": "code",
   "execution_count": 28,
   "id": "fff1bd09-9f22-40fd-9dc7-c336991c775a",
   "metadata": {},
   "outputs": [],
   "source": [
    "keepexpadata.X=keepexpadata.X.astype('float32')\n",
    "keepexpadata.layers['isoform1']=keepexpadata.layers['isoform1'].astype('float32')\n",
    "keepexpadata.layers['isoform2']=keepexpadata.layers['isoform2'].astype('float32')\n",
    "keepexpadata.layers['ambiguous']=keepexpadata.layers['ambiguous'].astype('float32')"
   ]
  },
  {
   "cell_type": "markdown",
   "id": "320db939-19da-4e10-8d48-0252b801840b",
   "metadata": {},
   "source": [
    "Please make sure the expression profile of `keepexpadata` is raw data and the counts of `isoform1` and `isoform2` are also **raw data** "
   ]
  },
  {
   "cell_type": "code",
   "execution_count": 29,
   "id": "a79c2788-77b4-4928-931e-91b383345425",
   "metadata": {},
   "outputs": [
    {
     "data": {
      "text/plain": [
       "array([[0., 0., 0., ..., 0., 0., 0.],\n",
       "       [0., 0., 0., ..., 0., 0., 0.],\n",
       "       [0., 0., 0., ..., 0., 0., 1.],\n",
       "       ...,\n",
       "       [0., 0., 0., ..., 0., 0., 0.],\n",
       "       [0., 0., 0., ..., 0., 0., 0.],\n",
       "       [0., 0., 0., ..., 0., 0., 1.]], dtype=float32)"
      ]
     },
     "execution_count": 29,
     "metadata": {},
     "output_type": "execute_result"
    }
   ],
   "source": [
    "keepexpadata.X.toarray()"
   ]
  },
  {
   "cell_type": "code",
   "execution_count": 30,
   "id": "593cc9b2-50bd-4b5f-bdb1-3b75b636fbd2",
   "metadata": {},
   "outputs": [
    {
     "data": {
      "text/plain": [
       "array([[0., 0., 0., ..., 0., 0., 0.],\n",
       "       [0., 0., 0., ..., 0., 0., 0.],\n",
       "       [0., 0., 0., ..., 0., 0., 0.],\n",
       "       ...,\n",
       "       [0., 0., 0., ..., 0., 0., 0.],\n",
       "       [0., 0., 0., ..., 0., 0., 0.],\n",
       "       [0., 0., 0., ..., 0., 0., 0.]], dtype=float32)"
      ]
     },
     "execution_count": 30,
     "metadata": {},
     "output_type": "execute_result"
    }
   ],
   "source": [
    "keepexpadata.layers['isoform1'].toarray()"
   ]
  },
  {
   "cell_type": "code",
   "execution_count": 31,
   "id": "2e6e1c4a-6ed3-4ddf-ba73-57f71d3919ac",
   "metadata": {},
   "outputs": [
    {
     "data": {
      "text/plain": [
       "array([[0., 0., 0., ..., 0., 0., 0.],\n",
       "       [0., 0., 0., ..., 0., 0., 0.],\n",
       "       [0., 0., 0., ..., 0., 0., 1.],\n",
       "       ...,\n",
       "       [0., 0., 0., ..., 0., 0., 0.],\n",
       "       [0., 0., 0., ..., 0., 0., 0.],\n",
       "       [0., 0., 0., ..., 0., 0., 2.]], dtype=float32)"
      ]
     },
     "execution_count": 31,
     "metadata": {},
     "output_type": "execute_result"
    }
   ],
   "source": [
    "keepexpadata.layers['isoform2'].toarray()"
   ]
  },
  {
   "cell_type": "code",
   "execution_count": null,
   "id": "f1c2a021-a769-4b4d-adb0-399bd093b407",
   "metadata": {},
   "outputs": [],
   "source": [
    "keepexpadata.write('/storage/yhhuang/users/ruiyan/NPC/express_to_brie.h5ad')"
   ]
  },
  {
   "cell_type": "markdown",
   "id": "cd45cb53-28a0-482f-a065-86a9dc6ab1e2",
   "metadata": {},
   "source": [
    "## Get h5ad file for each cell type\n",
    "Actually, here, we can get the alternative TSS usage for each cell type between `NLH` and `NPC` (two conditions).\n",
    "\n",
    "In another words, the number that you need run BRIE2 is the same with the number of cell type. \n",
    "\n",
    "So you need to do cell annotation for these cells and then separate them to get h5ad file for each cell types."
   ]
  },
  {
   "cell_type": "code",
   "execution_count": 33,
   "id": "c8baf3ff-f592-47e4-adaa-a2b0e7f129a1",
   "metadata": {},
   "outputs": [
    {
     "data": {
      "text/plain": [
       "AnnData object with n_obs × n_vars = 51001 × 4226\n",
       "    obs: 'cluster', 'UMAP_1', 'UMAP_2', 'patient_ID', 'condition'\n",
       "    var: 'TSS_start', 'TSS_end', 'gene_id', 'Chromosome', 'Feature', 'Start', 'End', 'Strand', 'gene_name', 'len'\n",
       "    uns: 'log1p'\n",
       "    obsm: 'X_umap'\n",
       "    layers: 'counts'"
      ]
     },
     "execution_count": 33,
     "metadata": {},
     "output_type": "execute_result"
    }
   ],
   "source": [
    "annodata=sc.read('/storage/yhhuang/users/ruiyan/NPC/srafiledir/scTSS_out/NPC_new_normalized.h5ad')\n",
    "annodata"
   ]
  },
  {
   "cell_type": "markdown",
   "id": "306c83af-328b-4097-9508-2ae88ee8c8ab",
   "metadata": {
    "tags": []
   },
   "source": [
    "Map `cell type` information for each cell"
   ]
  },
  {
   "cell_type": "code",
   "execution_count": 34,
   "id": "bb5b6e4e-1855-4c2f-86ff-76182fc6619d",
   "metadata": {},
   "outputs": [
    {
     "data": {
      "text/plain": [
       "AnnData object with n_obs × n_vars = 51001 × 1784\n",
       "    obs: 'index', 'cell_id', 'batch', 'cluster'\n",
       "    var: 'gene_ids', 'feature_types', 'gene_name', 'isoform1_name', 'isoform2_name'\n",
       "    layers: 'isoform1', 'isoform2', 'ambiguous'"
      ]
     },
     "execution_count": 34,
     "metadata": {},
     "output_type": "execute_result"
    }
   ],
   "source": [
    "keepexpadata.obs['cluster']=annodata.obs.index.map(annodata.obs['cluster'])\n",
    "keepexpadata"
   ]
  },
  {
   "cell_type": "markdown",
   "id": "5cbcf2e3-25d3-4f1e-97d7-23eeba546a7d",
   "metadata": {},
   "source": [
    "**Note** Please replace the path with your own path to store all h5ad file of cell type"
   ]
  },
  {
   "cell_type": "code",
   "execution_count": 36,
   "id": "0bdc02bb-52bb-4fbb-9559-b8a44b8e090e",
   "metadata": {},
   "outputs": [],
   "source": [
    "def get_celltype_adata(cellType):\n",
    "    celltypeadata=keepexpadata[keepexpadata.obs['cluster']==cellType,:]\n",
    "    celltype=cellType.replace(' ','_')\n",
    "    file=celltype+'.h5ad'\n",
    "    outputpath=os.path.join('/storage/yhhuang/users/ruiyan/NPC/diffcluster/',file)\n",
    "    celltypeadata.write(outputpath)\n"
   ]
  },
  {
   "cell_type": "code",
   "execution_count": null,
   "id": "998a49c3-f950-47a5-abbe-23d36cf180c8",
   "metadata": {},
   "outputs": [],
   "source": [
    "for celltype in keepexpadata.obs['cluster'].unique():\n",
    "    get_celltype_adata(celltype)"
   ]
  },
  {
   "cell_type": "markdown",
   "id": "0e592ab5-2006-468c-82f2-f1579e03662f",
   "metadata": {},
   "source": [
    "## Get Cdr file for each cell type\n",
    "The cdr file means the cell detected rate file. That is the proportion of gene in the all genes for this cell. \n",
    "\n",
    "For different scenarios, it includes different columns. \n",
    "\n",
    "If you want to compare two conditions, such as `NLH` and `NPC`, then you just give one column to tell BRIE2 that it is NLH or not. \n",
    "\n",
    "If you want to campare multiple conditions, such as `skin`,`brain` and `spleen`, then you should give binary value for all of these organs. \n"
   ]
  },
  {
   "cell_type": "code",
   "execution_count": 38,
   "id": "5ef822f5-3934-48bb-ba3f-b68fccf88fd2",
   "metadata": {},
   "outputs": [],
   "source": [
    "import pandas as pd\n",
    "import scanpy as sc\n",
    "import numpy as np\n",
    "import os\n"
   ]
  },
  {
   "cell_type": "code",
   "execution_count": 39,
   "id": "67259816-ee4c-48b3-8a08-8b567cb94868",
   "metadata": {},
   "outputs": [
    {
     "data": {
      "text/plain": [
       "AnnData object with n_obs × n_vars = 51001 × 1784\n",
       "    obs: 'index', 'cell_id', 'batch'\n",
       "    var: 'gene_ids', 'feature_types', 'gene_name', 'isoform1_name', 'isoform2_name'\n",
       "    layers: 'ambiguous', 'isoform1', 'isoform2'"
      ]
     },
     "execution_count": 39,
     "metadata": {},
     "output_type": "execute_result"
    }
   ],
   "source": [
    "keepexpadata=sc.read('/storage/yhhuang/users/ruiyan/NPC/express_to_brie.h5ad')\n",
    "keepexpadata"
   ]
  },
  {
   "cell_type": "code",
   "execution_count": 40,
   "id": "2f5cb55f-74a2-47de-9355-95a65bf1dc49",
   "metadata": {},
   "outputs": [],
   "source": [
    "def get_cdr_file(cellcluster):\n",
    "    cellcluster=cellcluster.replace(' ','_')\n",
    "    inputfile='/storage/yhhuang/users/ruiyan/NPC/diffcluster/'+str(cellcluster)+'.h5ad'\n",
    "    clusteradata=sc.read(inputfile)\n",
    "    diseasedf=pd.DataFrame(clusteradata.obs['condition'])\n",
    "    cdrdiseasedf = pd.get_dummies(diseasedf.condition, prefix='disease')\n",
    "    \n",
    "    cdr=np.array((clusteradata.X > 0).mean(1))[:,0]\n",
    "    cdrdiseasedf['detect_rate']=cdr\n",
    "    cdrdiseasedf.reset_index(inplace=True)\n",
    "    \n",
    "\n",
    "    cdrdiseasedf.drop(labels=['disease_NLH'],axis=1,inplace=True)\n",
    "    print(cdrdiseasedf)\n",
    "    outfile='/storage/yhhuang/users/ruiyan/NPC/diffcluster/NPC_cdr_'+cellcluster+'.tsv'\n",
    "    cdrdiseasedf.to_csv(outfile,sep='\\t',index=None)"
   ]
  },
  {
   "cell_type": "code",
   "execution_count": null,
   "id": "355afcc2-d0e3-4b27-bdb1-869207ea01cf",
   "metadata": {},
   "outputs": [],
   "source": [
    "for celltype in adata.obs['cluster'].unique():\n",
    "    get_cdr_file(celltype)"
   ]
  },
  {
   "cell_type": "markdown",
   "id": "8a04f737-34d9-4a03-a3c5-f873601b88f8",
   "metadata": {},
   "source": [
    "## Run BRIE2\n",
    "\n",
    "Here, we write a for loop for each cell type to run BRIE2\n",
    "\n",
    "For more information about BRIE2, you can check this [tutorial](https://brie.readthedocs.io/en/latest/)"
   ]
  },
  {
   "cell_type": "code",
   "execution_count": null,
   "id": "b661a609-03ac-44f3-9ded-f381045bd74b",
   "metadata": {},
   "outputs": [],
   "source": [
    "#!/bin/bash\n",
    "\n",
    "arr=(NK Myeloids Epithelial Fibroblast T_cells B_cells)\n",
    "for i in ${arr[@]}\n",
    "do\n",
    "echao $i\n",
    "brie-quant -i /storage/yhhuang/users/ruiyan/NPC/diffcluster/${i}.h5ad   -c /storage/yhhuang/users/ruiyan/NPC/diffcluster/NPC_cdr_${i}.tsv   -o /storage/yhhuang/users/ruiyan/NPC/diffcluster/Brie_out/brie_NPC_${i}.h5ad --batchSize 1000000 --minCell 10  --interceptMode gene --testBase full --LRTindex 0\n",
    "done\n"
   ]
  },
  {
   "cell_type": "markdown",
   "id": "350326fc-68ee-4687-bbac-b58a832a1b96",
   "metadata": {},
   "source": [
    "## Filter genes with TSS shift between two conditions\n",
    "\n",
    "Here, we set the threshold as `FDR<0.01` to filter genes with alternative TSS"
   ]
  },
  {
   "cell_type": "code",
   "execution_count": 41,
   "id": "9d028e72-4dac-4102-9c8b-81011468a5e1",
   "metadata": {},
   "outputs": [],
   "source": [
    "import pandas as pd\n",
    "import scanpy as sc"
   ]
  },
  {
   "cell_type": "code",
   "execution_count": 42,
   "id": "cc61cd35-4ff0-4735-9eb0-a2b02fbf6647",
   "metadata": {},
   "outputs": [],
   "source": [
    "def get_sign_gene(celltype):\n",
    "    celltype=celltype.replace(' ','_')\n",
    "    inputfile='/storage/yhhuang/users/ruiyan/NPC/diffcluster/Brie_out/brie_NPC_'+celltype+'.brie_ident.tsv'\n",
    "    briedf=pd.read_csv(inputfile,delimiter='\\t')\n",
    "    print(briedf)\n",
    "    signTdf=briedf[briedf['disease_NPC_FDR']<0.01]\n",
    "    outputfile='/storage/yhhuang/users/ruiyan/NPC/diffcluster/sign_Gene/'+celltype+'.csv'\n",
    "    signTdf.to_csv(outputfile,index=None)"
   ]
  },
  {
   "cell_type": "code",
   "execution_count": null,
   "id": "dee168de-37b8-4525-959a-677a3f0d227d",
   "metadata": {},
   "outputs": [],
   "source": [
    "\n",
    "for celltype in keepexpadata.obs['cluster'].unique():\n",
    "    get_sign_gene(celltype)  "
   ]
  },
  {
   "cell_type": "markdown",
   "id": "237048e4-1e44-4f69-a6a1-6c022e54cedb",
   "metadata": {},
   "source": [
    "## Display gene with alternative TSS using valcano plot\n",
    "\n",
    "For this part, you can also refer to [BRIE2 example](https://brie.readthedocs.io/en/latest/brie2_scNTseq.html)."
   ]
  },
  {
   "cell_type": "code",
   "execution_count": 43,
   "id": "32b180bb-de7d-4f24-b121-e9dbffa5453e",
   "metadata": {},
   "outputs": [],
   "source": [
    "import brie\n",
    "import scanpy as sc\n",
    "import matplotlib.pyplot as plt"
   ]
  },
  {
   "cell_type": "code",
   "execution_count": 44,
   "id": "6c16b647-c33a-41b8-a63b-439ddb78cc95",
   "metadata": {},
   "outputs": [
    {
     "name": "stdout",
     "output_type": "stream",
     "text": [
      "2.2.0\n"
     ]
    }
   ],
   "source": [
    "print(brie.__version__)"
   ]
  },
  {
   "cell_type": "code",
   "execution_count": 45,
   "id": "b5cf3774-b80f-4da9-a774-2bb6472c60ae",
   "metadata": {},
   "outputs": [
    {
     "data": {
      "text/plain": [
       "AnnData object with n_obs × n_vars = 24571 × 1628\n",
       "    obs: 'cluster', 'UMAP_1', 'UMAP_2', 'patient_ID', 'condition'\n",
       "    var: 'gene_ids', 'feature_types', 'gene_name', 'isoform1_name', 'isoform2_name', 'n_counts', 'n_counts_uniq', 'loss_gene'\n",
       "    uns: 'Xc_ids', 'brie_losses', 'brie_param', 'brie_version'\n",
       "    obsm: 'Xc'\n",
       "    varm: 'ELBO_gain', 'cell_coeff', 'fdr', 'intercept', 'pval', 'sigma'\n",
       "    layers: 'Psi', 'Psi_95CI', 'Z_std', 'ambiguous', 'isoform1', 'isoform2'"
      ]
     },
     "execution_count": 45,
     "metadata": {},
     "output_type": "execute_result"
    }
   ],
   "source": [
    "adata=sc.read('/storage/yhhuang/users/ruiyan/NPC/diffcluster/Brie_out/brie_NPC_T_cells.h5ad')\n",
    "adata"
   ]
  },
  {
   "cell_type": "code",
   "execution_count": 46,
   "id": "c3492c44-0aba-4726-bc50-045d063590c8",
   "metadata": {},
   "outputs": [
    {
     "data": {
      "text/plain": [
       "{'LRT_index': array([0]),\n",
       " 'base_mode': 'full',\n",
       " 'intercept_mode': 'gene',\n",
       " 'layer_keys': array(['isoform1', 'isoform2', 'ambiguous'], dtype=object),\n",
       " 'pseudo_count': 0.01}"
      ]
     },
     "execution_count": 46,
     "metadata": {},
     "output_type": "execute_result"
    }
   ],
   "source": [
    "adata.uns['brie_param']"
   ]
  },
  {
   "cell_type": "code",
   "execution_count": 47,
   "id": "48d6bcc8-6b65-49e8-8a6e-8381edbe5913",
   "metadata": {},
   "outputs": [
    {
     "data": {
      "text/plain": [
       "Index(['C1orf112', 'FGR', 'NFYA', 'STPG1', 'KRIT1', 'SNX11', 'CASP10', 'CFLAR',\n",
       "       'SARM1', 'FKBP4',\n",
       "       ...\n",
       "       'UHRF1', 'CCL4L2', 'MYO19', 'GGNBP2', 'ACACA', 'TMEM191B', 'NKILA',\n",
       "       'AC073111.5', 'ARHGAP11B', 'AC016831.7'],\n",
       "      dtype='object', name='gene_name', length=1628)"
      ]
     },
     "execution_count": 47,
     "metadata": {},
     "output_type": "execute_result"
    }
   ],
   "source": [
    "#Change gene index from Ensemebl id to gene name\n",
    "\n",
    "adata.var.index=adata.var['gene_name']\n",
    "adata.var.index"
   ]
  },
  {
   "cell_type": "code",
   "execution_count": 49,
   "id": "78fdd14d-2495-4724-b097-e977d30b9788",
   "metadata": {},
   "outputs": [
    {
     "data": {
      "image/png": "[encoded data removed]",
      "text/plain": [
       "<Figure size 432x288 with 1 Axes>"
      ]
     },
     "metadata": {
      "needs_background": "light"
     },
     "output_type": "display_data"
    }
   ],
   "source": [
    "## volcano plot for differential splicing events\n",
    "#fig = plt.figure(figsize=(4.5, 3.5), dpi=300)\n",
    "brie.pl.volcano(adata, y='ELBO_gain', log_y=False, n_anno=16, score_red=7, adjust=True)\n",
    "plt.xlabel('cell_coeff: effect size on logit(Psi)')\n",
    "plt.title(\"NPC differential TSS in T cell\")\n",
    "#fig.savefig('/storage/yhhuang/users/ruiyan/figure/figure5/T_volcano.pdf',bbox_inches='tight',dpi=300)\n",
    "plt.show()"
   ]
  },
  {
   "cell_type": "code",
   "execution_count": null,
   "id": "d6d3af4f-e93d-43f6-9d22-eb536d90f132",
   "metadata": {},
   "outputs": [],
   "source": []
  }
 ],
 "metadata": {
  "kernelspec": {
   "display_name": "newPy3",
   "language": "python",
   "name": "newpy3"
  },
  "language_info": {
   "codemirror_mode": {
    "name": "ipython",
    "version": 3
   },
   "file_extension": ".py",
   "mimetype": "text/x-python",
   "name": "python",
   "nbconvert_exporter": "python",
   "pygments_lexer": "ipython3",
   "version": "3.7.12"
  }
 },
 "nbformat": 4,
 "nbformat_minor": 5
}
